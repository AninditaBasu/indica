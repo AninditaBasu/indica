{
  "nbformat": 4,
  "nbformat_minor": 0,
  "metadata": {
    "kernelspec": {
      "display_name": "Python 3",
      "language": "python",
      "name": "python3"
    },
    "language_info": {
      "codemirror_mode": {
        "name": "ipython",
        "version": 3
      },
      "file_extension": ".py",
      "mimetype": "text/x-python",
      "name": "python",
      "nbconvert_exporter": "python",
      "pygments_lexer": "ipython3",
      "version": "3.6.6"
    },
    "colab": {
      "name": "vs_demo_basic.ipynb",
      "provenance": [],
      "collapsed_sections": []
    }
  },
  "cells": [
    {
      "cell_type": "markdown",
      "metadata": {
        "id": "raF-0JHyZPZu"
      },
      "source": [
        "# Demo of the `vs` API\n",
        "Documentation for the API is at https://aninditabasu.github.io/indica/html/vs.html.\n",
        "\n",
        "To run the demo, on the menu bar, click **Cell** > **Run All**. The code output is generated and displayed below each of the questions. Scroll :-)"
      ]
    },
    {
      "cell_type": "code",
      "metadata": {
        "id": "LrKVduThZPZz"
      },
      "source": [
        "import json\n",
        "import requests\n",
        "import collections\n",
        "\n",
        "r = requests.get('https://api-vs.herokuapp.com/vs/v1/resources/all')\n",
        "\n",
        "json_data = json.loads(json.dumps(r.json()))"
      ],
      "execution_count": 7,
      "outputs": []
    },
    {
      "cell_type": "markdown",
      "metadata": {
        "id": "KHUmHmZbZPZ0"
      },
      "source": [
        "## How many nouns does the `vs` API have descriptions for?"
      ]
    },
    {
      "cell_type": "code",
      "metadata": {
        "colab": {
          "base_uri": "https://localhost:8080/"
        },
        "id": "LZhs9kK9ZPZ0",
        "outputId": "4b123c1c-d051-4f58-9026-5978f417163e"
      },
      "source": [
        "print ('Total nouns:',len(json_data))"
      ],
      "execution_count": 8,
      "outputs": [
        {
          "output_type": "stream",
          "text": [
            "Total nouns: 1787\n"
          ],
          "name": "stdout"
        }
      ]
    },
    {
      "cell_type": "markdown",
      "metadata": {
        "id": "-bzCTaDqZPZ1"
      },
      "source": [
        "## Can you show me an example of a noun?"
      ]
    },
    {
      "cell_type": "code",
      "metadata": {
        "colab": {
          "base_uri": "https://localhost:8080/"
        },
        "id": "Ovm27MH7ZPZ1",
        "outputId": "bcc5a36f-e631-4b17-9f68-89536416093a"
      },
      "source": [
        "print(json_data[1500])"
      ],
      "execution_count": 9,
      "outputs": [
        {
          "output_type": "stream",
          "text": [
            "{'category': 'law', 'description': 'thief', 'nagari': 'तायु', 'word': 'tayu'}\n"
          ],
          "name": "stdout"
        }
      ]
    },
    {
      "cell_type": "markdown",
      "metadata": {
        "id": "tWRPjRRAZPZ1"
      },
      "source": [
        "## What are the categories that I can filter on?"
      ]
    },
    {
      "cell_type": "code",
      "metadata": {
        "colab": {
          "base_uri": "https://localhost:8080/"
        },
        "id": "E96MpJm5ZPZ1",
        "outputId": "0696e33f-a512-465c-90f9-e75c0d878491"
      },
      "source": [
        "categories=[]\n",
        "category_nouncount=[]\n",
        "\n",
        "unique_categories = collections.Counter(category['category'] for category in json_data)\n",
        "print ('Total categories:',len(unique_categories))\n",
        "print('=================')\n",
        "category_list=unique_categories.most_common()\n",
        "for k,v in category_list:\n",
        "    print(k,v)\n",
        "    categories.append(k)\n",
        "    category_nouncount.append(v)"
      ],
      "execution_count": 10,
      "outputs": [
        {
          "output_type": "stream",
          "text": [
            "Total categories: 48\n",
            "=================\n",
            "animal 175\n",
            "occupation 137\n",
            "object 136\n",
            "food 79\n",
            "plant 72\n",
            "bird 72\n",
            "tribe 65\n",
            "chariot 64\n",
            "family 61\n",
            "literature 54\n",
            "time 53\n",
            "astronomy 52\n",
            "disease 50\n",
            "tree 47\n",
            "cattle 45\n",
            "building 40\n",
            "weapon 38\n",
            "clothing 35\n",
            "war 35\n",
            "grain 34\n",
            "royalty 34\n",
            "river 33\n",
            "insect 29\n",
            "place 27\n",
            "law 25\n",
            "snake 25\n",
            "caste 24\n",
            "music 23\n",
            "grass 22\n",
            "agriculture 19\n",
            "ornament 19\n",
            "hair 15\n",
            "priest 14\n",
            "worm 14\n",
            "distance 14\n",
            "metal 14\n",
            "medicine 11\n",
            "ship 10\n",
            "fish 10\n",
            "subject 9\n",
            "morals 9\n",
            "dicing 8\n",
            "trade 8\n",
            "mountain 8\n",
            "games 6\n",
            "number 5\n",
            "poison 5\n",
            "weight 3\n"
          ],
          "name": "stdout"
        }
      ]
    },
    {
      "cell_type": "markdown",
      "metadata": {
        "id": "2bPW5PmZZPZ2"
      },
      "source": [
        "## Show me what you have under `hair`?"
      ]
    },
    {
      "cell_type": "code",
      "metadata": {
        "colab": {
          "base_uri": "https://localhost:8080/"
        },
        "id": "XZh4arA5ZPZ2",
        "outputId": "040c6adf-1d92-44d3-a346-86fe5a54a81d"
      },
      "source": [
        "for item in json_data:\n",
        "    for k,v in item.items():\n",
        "        if k=='category':\n",
        "            if v=='hair':\n",
        "                print (item)"
      ],
      "execution_count": 11,
      "outputs": [
        {
          "output_type": "stream",
          "text": [
            "{'category': 'hair', 'description': 'an epithet of the vashishthas, referring to their mode of wearing the hair in a braid on the right side', 'nagari': 'दक्षिणतस्कर्पद', 'word': 'dakshinataskaparda'}\n",
            "{'category': 'hair', 'description': 'braid', 'nagari': 'कर्पद', 'word': 'kapard'}\n",
            "{'category': 'hair', 'description': 'hair of the head', 'nagari': 'केश', 'word': 'kesh'}\n",
            "{'category': 'hair', 'description': 'blade or razor', 'nagari': 'क्षुर', 'word': 'kshur'}\n",
            "{'category': 'hair', 'description': 'ornament used by women for hair', 'nagari': 'कुम्ब', 'word': 'kumb'}\n",
            "{'category': 'hair', 'description': 'ornament used by women for hair', 'nagari': 'कुरीर', 'word': 'kurir'}\n",
            "{'category': 'hair', 'description': 'plait or braid of hair', 'nagari': 'ओपश', 'word': 'opash'}\n",
            "{'category': 'hair', 'description': 'grey-haired', 'nagari': 'पलित', 'word': 'palit'}\n",
            "{'category': 'hair', 'description': 'wearing the hair plain', 'nagari': 'पुलस्ति', 'word': 'pulasti'}\n",
            "{'category': 'hair', 'description': 'topknot', 'nagari': 'शिखा', 'word': 'shikha'}\n",
            "{'category': 'hair', 'description': 'tuft or lock as a mode of wearing the hair', 'nagari': 'शिखण्ड', 'word': 'shikhand'}\n",
            "{'category': 'hair', 'description': 'beard and moustache', 'nagari': 'श्मश्रु', 'word': 'shmashru'}\n",
            "{'category': 'hair', 'description': 'parting of the hair', 'nagari': 'सीमन', 'word': 'siman'}\n",
            "{'category': 'hair', 'description': 'tuft of hair or wool', 'nagari': 'स्तूका', 'word': 'stuka'}\n",
            "{'category': 'hair', 'description': 'topknot', 'nagari': 'स्तूप', 'word': 'stup'}\n"
          ],
          "name": "stdout"
        }
      ]
    },
    {
      "cell_type": "markdown",
      "metadata": {
        "id": "-u8mUBCGZPZ2"
      },
      "source": [
        "## If I am searching for a word like 'ashwamedh'?"
      ]
    },
    {
      "cell_type": "code",
      "metadata": {
        "colab": {
          "base_uri": "https://localhost:8080/"
        },
        "id": "LSL9YT10ZPZ2",
        "outputId": "e67f1e9a-daa1-4f79-99a7-3f6c94133418"
      },
      "source": [
        "for item in json_data:\n",
        "    for k,v in item.items():\n",
        "        if 'ashwamedh' in v:\n",
        "            print (item)"
      ],
      "execution_count": 12,
      "outputs": [
        {
          "output_type": "stream",
          "text": [
            "{'category': 'snake', 'description': 'boa constrictor, mentioned in the list of victims at the ashwamedh (horse sacrifice)', 'nagari': 'अजगर', 'word': 'ajagar'}\n",
            "{'category': 'bird', 'description': 'the name of a bird in the list of victims at the ashwamedh (horse sacrifice)', 'nagari': 'अलज', 'word': 'alaj'}\n",
            "{'category': 'bird', 'description': 'an aquatic bird, possibly swan, mentioned in the list of victims at the ashwamedh (horse sacrifice)', 'nagari': 'आति', 'word': 'ati'}\n",
            "{'category': 'bird', 'description': 'crane, mentioned in the list of victims at the ashwamedh (horse sacrifice)', 'nagari': 'बलाका', 'word': 'balaka'}\n",
            "{'category': 'animal', 'description': 'the name of an animal in the list of victims at the ashwamedh (horse sacrifice)', 'nagari': 'बलाय', 'word': 'balay'}\n",
            "{'category': 'animal', 'description': 'the name of an animal in the list of victims at the ashwamedh (horse sacrifice)', 'nagari': 'भौमी', 'word': 'bhaumi'}\n",
            "{'category': 'insect', 'description': 'bee, large and black, mentioned in the list of victims at the ashwamedh (horse sacrifice)', 'nagari': 'भृण्गा', 'word': 'bhringa'}\n",
            "{'category': 'bird', 'description': 'the brahmany duck (Anas casarca), mentioned in the list of victims at the ashwamedh (horse sacrifice)', 'nagari': 'चक्रवाक', 'word': 'chakravak'}\n",
            "{'category': 'bird', 'description': 'the blue woodpecker (Coractas indica), mentioned in the list of victims at the ashwamedh (horse sacrifice)', 'nagari': 'चाष', 'word': 'chash'}\n",
            "{'category': 'bird', 'description': 'woodpecker, mentioned in the list of victims at the ashwamedh (horse sacrifice)', 'nagari': 'दार्वाघात', 'word': 'darvaghat'}\n",
            "{'category': 'bird', 'description': 'the woodpecker, mentioned in the list of victims at the ashwamedh (horse sacrifice)', 'nagari': 'दर्विदा', 'word': 'darvida'}\n",
            "{'category': 'bird', 'description': 'the gallinule, mentioned in the list of victims at the ashwamedh (horse sacrifice)', 'nagari': 'दात्यौह', 'word': 'datyauh'}\n",
            "{'category': 'bird', 'description': 'the name of a bird mentioned in the list of victims at the ashwamedh (horse sacrifice)', 'nagari': 'धुंक्षा', 'word': 'dhunksha'}\n",
            "{'category': 'grass', 'description': 'fodder, especially for the horse victim of the ashwamedh (horse sacrifice)', 'nagari': 'घास', 'word': 'ghas'}\n",
            "{'category': 'animal', 'description': 'the name of an animal in the list of victims at the ashwamedh (horse sacrifice)', 'nagari': 'घृणिवन्त', 'word': 'ghrnivant'}\n",
            "{'category': 'animal', 'description': 'the name of an animal in the list of victims at the ashwamedh (horse sacrifice)', 'nagari': 'गोलत्तिका', 'word': 'golattika'}\n",
            "{'category': 'bird', 'description': 'the name of a bird in the list of victims at the ashwamedh (horse sacrifice)', 'nagari': 'गोषादी', 'word': 'goshadi'}\n",
            "{'category': 'animal', 'description': 'the name of an animal in the list of victims at the ashwamedh (horse sacrifice)', 'nagari': 'हलिक्ष्ण', 'word': 'halikshn'}\n",
            "{'category': 'bird', 'description': 'the gander, credited with the ability to separate soma from water; mentioned in the list of victims at the ashwamedh (horse sacrifice)', 'nagari': 'हंस', 'word': 'hans'}\n",
            "{'category': 'bird', 'description': 'the name of a bird in the list of victims at the ashwamedh (horse sacrifice)', 'nagari': 'हंससाचि', 'word': 'hansasachi'}\n",
            "{'category': 'animal', 'description': 'the polecat, mentioned  in the list of victims at the ashwamedh (horse sacrifice)', 'nagari': 'जहका', 'word': 'jahaka'}\n",
            "{'category': 'animal', 'description': 'bat, mentioned in the list of victims at the ashwamedh (horse sacrifice)', 'nagari': 'जतू', 'word': 'jatu'}\n",
            "{'category': 'bird', 'description': 'name of a bird in the list of victims at the ashwamedh (horse sacrifice)', 'nagari': 'ककर', 'word': 'kakar'}\n",
            "{'category': 'bird', 'description': 'the name of a bird in the list of victims at the ashwamedh (horse sacrifice)', 'nagari': 'कालका', 'word': 'kalaka'}\n",
            "{'category': 'animal', 'description': 'the name of an animal in the list of victims at the ashwamedh (horse sacrifice)', 'nagari': 'कश', 'word': 'kash'}\n",
            "{'category': 'bird', 'description': 'the name of a bird in the list of victims at the ashwamedh (horse sacrifice)', 'nagari': 'कौलीक', 'word': 'kaulik'}\n",
            "{'category': 'animal', 'description': 'the name of an animal in the list of victims at the ashwamedh (horse sacrifice)', 'nagari': 'कीर्शा', 'word': 'kirsha'}\n",
            "{'category': 'animal', 'description': 'chameleon, mentioned in the list of victims at the ashwamedh (horse sacrifice)', 'nagari': 'कृकलास', 'word': 'krikalas'}\n",
            "{'category': 'bird', 'description': 'cock, mentioned in the list of victims at the ashwamedh (horse sacrifice)', 'nagari': 'कृकवाकु', 'word': 'krikavaku'}\n",
            "{'category': 'bird', 'description': 'the name of a bird in the list of victims at the ashwamedh (horse sacrifice)', 'nagari': 'कुलीक', 'word': 'kulika'}\n",
            "{'category': 'animal', 'description': 'name of an animal, possibly gazelle, mentioned in the list of victims at the ashwamedh (horse sacrifice)', 'nagari': 'कुलुंग', 'word': 'kulung'}\n",
            "{'category': 'animal', 'description': 'the name of an animal, possibly some sort of a snake, mentioned in the list of victims at the ashwamedh (horse sacrifice)', 'nagari': 'कुम्भीनासा', 'word': 'kumbhinasa'}\n",
            "{'category': 'animal', 'description': 'the name of an animal in the list of victims at the ashwamedh (horse sacrifice)', 'nagari': 'कुण्डृनाची', 'word': 'kundranachi'}\n",
            "{'category': 'bird', 'description': 'the name of a bird in the list of victims at the ashwamedh (horse sacrifice)', 'nagari': 'कुवय', 'word': 'kuvay'}\n",
            "{'category': 'bird', 'description': 'the name of a bird in the list of victims at the ashwamedh (horse sacrifice)', 'nagari': 'क्वयि', 'word': 'kvayi'}\n",
            "{'category': 'bird', 'description': 'quail (Perdix chinensis), mentioned in the list of victims at the ashwamedh (horse sacrifice)', 'nagari': 'लब', 'word': 'lab'}\n",
            "{'category': 'snake', 'description': 'red snake, mentioned in the list of victims at the ashwamedh (horse sacrifice)', 'nagari': 'लोहिताहि', 'word': 'lohitahi'}\n",
            "{'category': 'bird', 'description': 'the name of a bird, possibly carrion crow, in the list of victims at the ashwamedh (horse sacrifice)', 'nagari': 'लोपा', 'word': 'lopa'}\n",
            "{'category': 'animal', 'description': 'the name of an animal, possibly jackal or fox, mentioned in the list of victims at the ashwamedh (horse sacrifice)', 'nagari': 'लोपाश', 'word': 'lopash'}\n",
            "{'category': 'bird', 'description': 'the name of an aquatic bird in the list of victims at the ashwamedh (horse sacrifice)', 'nagari': 'मद्गु', 'word': 'madgu'}\n",
            "{'category': 'animal', 'description': 'crocodile, mentioned in the list of victims at the ashwamedh (horse sacrifice)', 'nagari': 'मकर', 'word': 'makar'}\n",
            "{'category': 'animal', 'description': 'the name of an animal in the list of victims at the ashwamedh (horse sacrifice)', 'nagari': 'मांथालव', 'word': 'manthalav'}\n",
            "{'category': 'animal', 'description': 'ape, mentioned in the list of victims at the ashwamedh (horse sacrifice)', 'nagari': 'मर्कट', 'word': 'markat'}\n",
            "{'category': 'animal', 'description': 'ape, mentioned in the list of victims at the ashwamedh (horse sacrifice)', 'nagari': 'मयु', 'word': 'mayu'}\n",
            "{'category': 'animal', 'description': 'peacock, mentioned in the list of victims at the ashwamedh (horse sacrifice)', 'nagari': 'मयूर', 'word': 'mayur'}\n",
            "{'category': 'animal', 'description': 'the name of an animal, possibly crocodile, mentioned in the list of victims at the ashwamedh (horse sacrifice)', 'nagari': 'नाक्र', 'word': 'nakra'}\n",
            "{'category': 'animal', 'description': 'ichneumon, mentioned in the list of victims at the ashwamedh (horse sacrifice)', 'nagari': 'नकुल', 'word': 'nakul'}\n",
            "{'category': 'worm', 'description': 'the name of a worm, mentioned in the list of victims at the ashwamedh (horse sacrifice)', 'nagari': 'नीलांगु', 'word': 'nilangu'}\n",
            "{'category': 'animal', 'description': 'the name of an animal in the list of victims at the ashwamedh (horse sacrifice)', 'nagari': 'नीलशीर्षणी', 'word': 'nilashirshani'}\n",
            "{'category': 'animal', 'description': 'the name of an animal, possibly gazelle but could be bear as well, mentioned in the list of victims at the ashwamedh (horse sacrifice)', 'nagari': 'न्यंकु', 'word': 'nyanku'}\n",
            "{'category': 'bird', 'description': 'the name of a bird in the list of victims at the ashwamedh (horse sacrifice)', 'nagari': 'पैंगराज', 'word': 'paingaraj'}\n",
            "{'category': 'animal', 'description': 'the name of an animal, possibly field rat, mentioned in the list of victims at the ashwamedh (horse sacrifice)', 'nagari': 'पांक्त्र', 'word': 'panktra'}\n",
            "{'category': 'bird', 'description': 'turtle dove, mentioned in the list of victims at the ashwamedh (horse sacrifice)', 'nagari': 'पारावात', 'word': 'paravat'}\n",
            "{'category': 'bird', 'description': 'the name of a bird in the list of victims at the ashwamedh (horse sacrifice)', 'nagari': 'पारूष्णा', 'word': 'parusna'}\n",
            "{'category': 'animal', 'description': 'ram, mentioned in the list of victims at the ashwamedh (horse sacrifice)', 'nagari': 'पेत्व', 'word': 'petv'}\n",
            "{'category': 'bird', 'description': 'cuckoo, mentioned in the list of victims at the ashwamedh (horse sacrifice)', 'nagari': 'पिक', 'word': 'pik'}\n",
            "{'category': 'bird', 'description': 'the name of a bird in the list of victims at the ashwamedh (horse sacrifice)', 'nagari': 'पिप्पक', 'word': 'pippak'}\n",
            "{'category': 'bird', 'description': 'the name of an aquatic bird, possibly pelican, in the list of victims at the ashwamedh (horse sacrifice)', 'nagari': 'प्लव', 'word': 'plav'}\n",
            "{'category': 'insect', 'description': 'the name of a noxious insect, possibly some species of ant, mentioned in the list of victims at the ashwamedh (horse sacrifice)', 'nagari': 'प्लुषि', 'word': 'plushi'}\n",
            "{'category': 'snake', 'description': 'the name of a snake in the list of victims at the ashwamedh (horse sacrifice); its skin was especially valuable', 'nagari': 'पृदाकु', 'word': 'pridaku'}\n",
            "{'category': 'animal', 'description': 'the name of an animal, possibly dappled antelope or gazelle, mentioned in the list of victims at the ashwamedh (horse sacrifice)', 'nagari': 'पृषत', 'word': 'prishat'}\n",
            "{'category': 'animal', 'description': 'the name of an animal, possibly dappled antelope, speckled cow, or speckled mare, mentioned in the list of victims at the ashwamedh (horse sacrifice)', 'nagari': 'पृषति', 'word': 'prishati'}\n",
            "{'category': 'bird', 'description': 'the name of a bird in the list of victims at the ashwamedh (horse sacrifice)', 'nagari': 'पुलीका', 'word': 'pulika'}\n",
            "{'category': 'bird', 'description': 'the name of an animal in the list of victims at the ashwamedh (horse sacrifice)', 'nagari': 'पुष्करसाद', 'word': 'pushkarasad'}\n",
            "{'category': 'animal', 'description': 'deer, mentioned in the list of victims at the ashwamedh (horse sacrifice)', 'nagari': 'रुरु', 'word': 'ruru'}\n",
            "{'category': 'animal', 'description': 'the name of an animal in the list of victims at the ashwamedh (horse sacrifice)', 'nagari': 'शका', 'word': 'shaka'}\n",
            "{'category': 'bird', 'description': 'bird, foretold ill luck; possibly falcon, raven or crow; mentioned in the list of victims at the ashwamedh (horse sacrifice)', 'nagari': 'शकुनि', 'word': 'shakuni'}\n",
            "{'category': 'bird', 'description': 'wild chatak, mentioned in the list of victims at the ashwamedh (horse sacrifice)', 'nagari': 'शार्ग', 'word': 'sharg'}\n",
            "{'category': 'bird', 'description': 'the name of a bird, possibly starling, in the list of victims at the ashwamedh (horse sacrifice)', 'nagari': 'शारि', 'word': 'shari'}\n",
            "{'category': 'bird', 'description': 'small owl, mentioned in the list of victims at the ashwamedh (horse sacrifice)', 'nagari': 'शुशुलूक', 'word': 'shushuluk'}\n",
            "{'category': 'bird', 'description': 'the name of a bird in the list of victims at the ashwamedh (horse sacrifice)', 'nagari': 'सीचापू', 'word': 'sichapu'}\n",
            "{'category': 'animal', 'description': 'the name of an animal in the list of victims at the ashwamedh (horse sacrifice)', 'nagari': 'सृजय', 'word': 'srijay'}\n",
            "{'category': 'animal', 'description': 'hyaena, mentioned in the list of victims at the ashwamedh (horse sacrifice)', 'nagari': 'तरक्षु', 'word': 'tarakshu'}\n",
            "{'category': 'animal', 'description': 'otter, mentioned in the list of victims at the ashwamedh (horse sacrifice)', 'nagari': 'उद्र', 'word': 'udr'}\n",
            "{'category': 'animal', 'description': 'boa constrictor, mentioned in the list of victims at the ashwamedh (horse sacrifice)', 'nagari': 'वाहस', 'word': 'vahas'}\n",
            "{'category': 'snake', 'description': 'boa constrictor, mentioned in the list of victims at the ashwamedh (horse sacrifice)', 'nagari': 'वाहस', 'word': 'vahas'}\n",
            "{'category': 'animal', 'description': 'rhinoceros, mentioned in the list of victims at the ashwamedh (horse sacrifice)', 'nagari': 'वार्ध्राणस', 'word': 'vardhranasa'}\n",
            "{'category': 'bird', 'description': 'quail, mentioned in the list of victims at the ashwamedh (horse sacrifice)', 'nagari': 'वर्तिका', 'word': 'vartika'}\n",
            "{'category': 'bird', 'description': 'the name of a bird in the list of victims at the ashwamedh (horse sacrifice)', 'nagari': 'विककर', 'word': 'vikakar'}\n",
            "{'category': 'animal', 'description': 'cat, mentioned in the list of victims at the ashwamedh (horse sacrifice)', 'nagari': 'वृषदंश', 'word': 'vrishadansh'}\n"
          ],
          "name": "stdout"
        }
      ]
    },
    {
      "cell_type": "code",
      "metadata": {
        "id": "sVAcw6XrZPZ3"
      },
      "source": [
        ""
      ],
      "execution_count": 12,
      "outputs": []
    }
  ]
}