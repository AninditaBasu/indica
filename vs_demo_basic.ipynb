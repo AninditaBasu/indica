{
 "cells": [
  {
   "cell_type": "markdown",
   "metadata": {},
   "source": [
    "# Demo of the `vs` API\n",
    "Documentation for the API is at https://aninditabasu.github.io/rigVeda/.\n",
    "\n",
    "To run the demo, on the menu bar, click **Cell** > **Run All**. The code output is generated and displayed below each of the questions. Scroll :-)"
   ]
  },
  {
   "cell_type": "code",
   "execution_count": null,
   "metadata": {},
   "outputs": [],
   "source": [
    "import json\n",
    "import requests\n",
    "import urllib\n",
    "#import matplotlib.pyplot as plt\n",
    "import collections\n",
    "\n",
    "base_URL='https://sheetlabs.com/RV/vs'\n",
    "r = requests.get(base_URL)\n",
    "\n",
    "json_data = json.loads(json.dumps(r.json()))"
   ]
  },
  {
   "cell_type": "markdown",
   "metadata": {},
   "source": [
    "## How many nouns does the `vs` API have descriptions for?"
   ]
  },
  {
   "cell_type": "code",
   "execution_count": null,
   "metadata": {},
   "outputs": [],
   "source": [
    "print ('Total nouns:',len(json_data))"
   ]
  },
  {
   "cell_type": "markdown",
   "metadata": {},
   "source": [
    "## Can you show me an example of a noun?"
   ]
  },
  {
   "cell_type": "code",
   "execution_count": null,
   "metadata": {},
   "outputs": [],
   "source": [
    "print(json_data[1500])"
   ]
  },
  {
   "cell_type": "markdown",
   "metadata": {},
   "source": [
    "## What are the categories that I can filter on?"
   ]
  },
  {
   "cell_type": "code",
   "execution_count": null,
   "metadata": {},
   "outputs": [],
   "source": [
    "categories=[]\n",
    "category_nouncount=[]\n",
    "\n",
    "unique_categories = collections.Counter(category['category'] for category in json_data)\n",
    "print ('Total categories:',len(unique_categories))\n",
    "print('=================')\n",
    "category_list=unique_categories.most_common()\n",
    "for k,v in category_list:\n",
    "    print(k,v)\n",
    "    categories.append(k)\n",
    "    category_nouncount.append(v)"
   ]
  },
  {
   "cell_type": "markdown",
   "metadata": {},
   "source": [
    "## Show me what you have under `hair`?"
   ]
  },
  {
   "cell_type": "code",
   "execution_count": null,
   "metadata": {},
   "outputs": [],
   "source": [
    "for item in json_data:\n",
    "    for k,v in item.items():\n",
    "        if k=='category':\n",
    "            if v=='hair':\n",
    "                print (item)"
   ]
  },
  {
   "cell_type": "markdown",
   "metadata": {},
   "source": [
    "## If I am searching for a word like 'ashwamedh'?"
   ]
  },
  {
   "cell_type": "code",
   "execution_count": null,
   "metadata": {},
   "outputs": [],
   "source": [
    "for item in json_data:\n",
    "    for k,v in item.items():\n",
    "        if 'ashwamedh' in v:\n",
    "            print (item)"
   ]
  },
  {
   "cell_type": "code",
   "execution_count": null,
   "metadata": {},
   "outputs": [],
   "source": []
  }
 ],
 "metadata": {
  "kernelspec": {
   "display_name": "Python 3",
   "language": "python",
   "name": "python3"
  },
  "language_info": {
   "codemirror_mode": {
    "name": "ipython",
    "version": 3
   },
   "file_extension": ".py",
   "mimetype": "text/x-python",
   "name": "python",
   "nbconvert_exporter": "python",
   "pygments_lexer": "ipython3",
   "version": "3.6.6"
  }
 },
 "nbformat": 4,
 "nbformat_minor": 2
}
