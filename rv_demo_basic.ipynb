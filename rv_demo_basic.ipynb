{
 "cells": [
  {
   "cell_type": "markdown",
   "metadata": {},
   "source": [
    "# Demo of the Rig Veda API\n",
    "\n",
    "Documentation for the API is at https://aninditabasu.github.io/indica/html/rv.html.\n",
    "\n",
    "To run the demo, on the menu bar, click **Cell** > **Run All**. The code output is generated and displayed below each of the questions. Scroll :-)"
   ]
  },
  {
   "cell_type": "code",
   "execution_count": null,
   "metadata": {},
   "outputs": [],
   "source": [
    "import json\n",
    "import requests\n",
    "import urllib\n",
    "import matplotlib.pyplot as plt\n",
    "import collections\n",
    "\n",
    "base_URL='https://sheetlabs.com/IND/rv'\n",
    "r = requests.get(base_URL)\n",
    "\n",
    "json_data = json.loads(json.dumps(r.json()))\n"
   ]
  },
  {
   "cell_type": "markdown",
   "metadata": {},
   "source": [
    "#### Which book has how many verses?"
   ]
  },
  {
   "cell_type": "code",
   "execution_count": null,
   "metadata": {},
   "outputs": [],
   "source": [
    "last_book=json_data[(len(json_data))-1]['mandal']\n",
    "print('Number of books:', last_book)\n",
    "\n",
    "book_list=[]\n",
    "verse_list=[]\n",
    "book_number = 1\n",
    "verse_number = []\n",
    "\n",
    "while book_number < last_book+1:\n",
    "    for line in json_data:\n",
    "        if line['mandal']==book_number:\n",
    "            verse_number.append(line['sukta'])\n",
    "    print ('Book number', book_number, 'has',max(verse_number),'verses.')\n",
    "    book_list.append(book_number)\n",
    "    verse_list.append(max(verse_number))\n",
    "    verse_number = []    \n",
    "    book_number = book_number + 1\n",
    "\n",
    "\n",
    "fig1, ax1 = plt.subplots()\n",
    "ax1.pie(verse_list, labels=book_list, autopct='%1.1f%%',\n",
    "        shadow=True, startangle=90)\n",
    "ax1.axis('equal')\n",
    "\n",
    "plt.show()"
   ]
  },
  {
   "cell_type": "markdown",
   "metadata": {},
   "source": [
    "#### To whom are the first and last verses addressed to?"
   ]
  },
  {
   "cell_type": "code",
   "execution_count": null,
   "metadata": {},
   "outputs": [],
   "source": [
    "first = json_data[0]\n",
    "last = json_data[(len(json_data))-1]\n",
    "for k, v in first.items():\n",
    "    if k=='sungfor':\n",
    "        print('The first verse is for',v)\n",
    "for k, v in last.items():\n",
    "    if k=='sungfor':\n",
    "        print('The last verse is for',v)\n"
   ]
  },
  {
   "cell_type": "markdown",
   "metadata": {},
   "source": [
    "#### Who all are the poets?"
   ]
  },
  {
   "cell_type": "code",
   "execution_count": null,
   "metadata": {},
   "outputs": [],
   "source": [
    "poets=[]\n",
    "poet_poemcount=[]\n",
    "\n",
    "unique_poets = collections.Counter(poet['sungby'] for poet in json_data)\n",
    "print ('Total poets:',len(unique_poets))\n",
    "print('=================')\n",
    "poet_list=unique_poets.most_common()\n",
    "for k,v in poet_list:\n",
    "    #print(k,v)\n",
    "    poets.append(k)\n",
    "    poet_poemcount.append(v)\n",
    "\n",
    "fig1, ax1 = plt.subplots()\n",
    "ax1.pie(poet_poemcount, labels=poets, autopct='%1.1f%%',\n",
    "        shadow=True, startangle=90)\n",
    "ax1.axis('equal')\n",
    "\n",
    "plt.show()"
   ]
  },
  {
   "cell_type": "markdown",
   "metadata": {},
   "source": [
    "#### And who were they singing to?"
   ]
  },
  {
   "cell_type": "code",
   "execution_count": null,
   "metadata": {},
   "outputs": [],
   "source": [
    "gods=[]\n",
    "god_poemcount=[]\n",
    "\n",
    "unique_gods = collections.Counter(god['sungfor'] for god in json_data)\n",
    "print ('Total gods:',len(unique_gods))\n",
    "print('=================')\n",
    "god_list=unique_gods.most_common()\n",
    "for k,v in god_list:\n",
    "    gods.append(k)\n",
    "    god_poemcount.append(v)\n",
    "\n",
    "fig1, ax1 = plt.subplots()\n",
    "ax1.pie(god_poemcount, labels=gods, autopct='%1.1f%%',\n",
    "        shadow=True, startangle=90)\n",
    "ax1.axis('equal')\n",
    "\n",
    "plt.show()"
   ]
  },
  {
   "cell_type": "markdown",
   "metadata": {},
   "source": [
    "#### Whoa! So, is that where the term *33 crore gods* come from?\n",
    "\n",
    "We don't know! FWIW, the book itself says there are 33, of whom 11 live in heaven, 11 on earth, and the remaining 11 in the sea:\n",
    "\n",
    "`ये देवासो दिव्येकादश स्य पृथिव्यामध्येकादश स्थ। अप्सुक्षितो महिनैकादश स्थ ते देवासो यज्ञमिमं जुषध्वम् ॥`\n",
    "\n",
    "For an English translation, see the last para at https://en.wikisource.org/wiki/The_Rig_Veda/Mandala_1/Hymn_139."
   ]
  },
  {
   "cell_type": "markdown",
   "metadata": {},
   "source": [
    "#### Okay, give me the entire god-list, please?"
   ]
  },
  {
   "cell_type": "code",
   "execution_count": null,
   "metadata": {},
   "outputs": [],
   "source": [
    "for god in gods:\n",
    "    print (god)"
   ]
  },
  {
   "cell_type": "markdown",
   "metadata": {},
   "source": [
    "#### How is 'Plough' a god?\n",
    "\n",
    "We don't know if it is or is not. What we do know that there are hymns addressed to it :)\n",
    "\n",
    "#### I've heard that women also composed some of these verses. Can you give me their names?\n",
    "\n",
    "Sure!"
   ]
  },
  {
   "cell_type": "code",
   "execution_count": null,
   "metadata": {},
   "outputs": [],
   "source": [
    "female_poets=[]\n",
    "for item in json_data:\n",
    "        for k,v in item.items():\n",
    "            if k=='sungbycategory':\n",
    "                if 'female' in v:\n",
    "                    female_poets.append(item['sungby'])\n",
    "print(collections.Counter(female_poets))"
   ]
  },
  {
   "cell_type": "markdown",
   "metadata": {},
   "source": [
    "#### Where is the complete documentation for this API?\n",
    "\n",
    "https://aninditabasu.github.io/indica/index.html."
   ]
  },
  {
   "cell_type": "code",
   "execution_count": null,
   "metadata": {},
   "outputs": [],
   "source": []
  }
 ],
 "metadata": {
  "kernelspec": {
   "display_name": "Python 3",
   "language": "python",
   "name": "python3"
  },
  "language_info": {
   "codemirror_mode": {
    "name": "ipython",
    "version": 3
   },
   "file_extension": ".py",
   "mimetype": "text/x-python",
   "name": "python",
   "nbconvert_exporter": "python",
   "pygments_lexer": "ipython3",
   "version": "3.6.6"
  }
 },
 "nbformat": 4,
 "nbformat_minor": 2
}
