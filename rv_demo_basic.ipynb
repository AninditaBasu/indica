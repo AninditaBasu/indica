{
 "cells": [
  {
   "cell_type": "markdown",
   "metadata": {},
   "source": [
    "# Demo of the Rig Veda API\n",
    "\n",
    "Documentation for the API is at https://app.sheetlabs.com/#/services/doc/RV/rv.\n",
    "\n",
    "To run the demo, on the menu bar, click **Cell** > **Run All**. The code output is generated and displayed below each of the questions. Scroll :-)"
   ]
  },
  {
   "cell_type": "code",
   "execution_count": null,
   "metadata": {},
   "outputs": [],
   "source": [
    "import json\n",
    "import requests\n",
    "import urllib\n",
    "import matplotlib.pyplot as plt\n",
    "import collections\n",
    "\n",
    "base_URL='https://sheetlabs.com/RV/rv'\n",
    "r = requests.get(base_URL)\n",
    "\n",
    "json_data = json.loads(json.dumps(r.json()))\n"
   ]
  },
  {
   "cell_type": "markdown",
   "metadata": {},
   "source": [
    "#### How many verses does the Rig Veda contain?"
   ]
  },
  {
   "cell_type": "code",
   "execution_count": null,
   "metadata": {},
   "outputs": [],
   "source": [
    "print ('Total verses:',len(json_data))"
   ]
  },
  {
   "cell_type": "markdown",
   "metadata": {},
   "source": [
    "#### Which book has how many verses?"
   ]
  },
  {
   "cell_type": "code",
   "execution_count": null,
   "metadata": {},
   "outputs": [],
   "source": [
    "last_book=json_data[(len(json_data))-1]['mandal']\n",
    "i=1\n",
    "counter=0\n",
    "big_sum=0\n",
    "\n",
    "book_verse=[]\n",
    "book_number=[]\n",
    "\n",
    "while i<last_book+1:\n",
    "    for item in json_data:\n",
    "        for k,v in item.items():\n",
    "            if k=='mandal':\n",
    "                if v==i:\n",
    "                    counter=counter+1\n",
    "    print ('Book',i,'has',counter,'verses.')\n",
    "    book_verse.append(counter)\n",
    "    mandal='Mandala '+str(i)\n",
    "    book_number.append(mandal)\n",
    "    big_sum=big_sum+counter\n",
    "    counter=0\n",
    "    i=i+1\n",
    "print ('Total',last_book,'books (mandalas) and',big_sum,'verses (suktas).')\n",
    "\n",
    "fig1, ax1 = plt.subplots()\n",
    "ax1.pie(book_verse, labels=book_number, autopct='%1.1f%%',\n",
    "        shadow=True, startangle=90)\n",
    "ax1.axis('equal')\n",
    "\n",
    "plt.show()"
   ]
  },
  {
   "cell_type": "markdown",
   "metadata": {},
   "source": [
    "#### To whom are the first and last verses addressed to?"
   ]
  },
  {
   "cell_type": "code",
   "execution_count": null,
   "metadata": {},
   "outputs": [],
   "source": [
    "first = json_data[0]\n",
    "last = json_data[(len(json_data))-1]\n",
    "for k, v in first.items():\n",
    "    if k=='sungfor':\n",
    "        print('The first verse is for',v)\n",
    "for k, v in last.items():\n",
    "    if k=='sungfor':\n",
    "        print('The last verse is for',v)\n"
   ]
  },
  {
   "cell_type": "markdown",
   "metadata": {},
   "source": [
    "#### Who all are the poets?"
   ]
  },
  {
   "cell_type": "code",
   "execution_count": null,
   "metadata": {},
   "outputs": [],
   "source": [
    "poets=[]\n",
    "poet_poemcount=[]\n",
    "\n",
    "unique_poets = collections.Counter(poet['sungby'] for poet in json_data)\n",
    "print ('Total poets:',len(unique_poets))\n",
    "print('=================')\n",
    "poet_list=unique_poets.most_common()\n",
    "for k,v in poet_list:\n",
    "    #print(k,v)\n",
    "    poets.append(k)\n",
    "    poet_poemcount.append(v)\n",
    "\n",
    "fig1, ax1 = plt.subplots()\n",
    "ax1.pie(poet_poemcount, labels=poets, autopct='%1.1f%%',\n",
    "        shadow=True, startangle=90)\n",
    "ax1.axis('equal')\n",
    "\n",
    "plt.show()"
   ]
  },
  {
   "cell_type": "markdown",
   "metadata": {},
   "source": [
    "#### And who were they singing to?"
   ]
  },
  {
   "cell_type": "code",
   "execution_count": null,
   "metadata": {},
   "outputs": [],
   "source": [
    "gods=[]\n",
    "god_poemcount=[]\n",
    "\n",
    "unique_gods = collections.Counter(god['sungfor'] for god in json_data)\n",
    "print ('Total gods:',len(unique_gods))\n",
    "print('=================')\n",
    "god_list=unique_gods.most_common()\n",
    "for k,v in god_list:\n",
    "    gods.append(k)\n",
    "    god_poemcount.append(v)\n",
    "\n",
    "fig1, ax1 = plt.subplots()\n",
    "ax1.pie(god_poemcount, labels=gods, autopct='%1.1f%%',\n",
    "        shadow=True, startangle=90)\n",
    "ax1.axis('equal')\n",
    "\n",
    "plt.show()"
   ]
  },
  {
   "cell_type": "code",
   "execution_count": null,
   "metadata": {},
   "outputs": [],
   "source": []
  }
 ],
 "metadata": {
  "kernelspec": {
   "display_name": "Python 3",
   "language": "python",
   "name": "python3"
  },
  "language_info": {
   "codemirror_mode": {
    "name": "ipython",
    "version": 3
   },
   "file_extension": ".py",
   "mimetype": "text/x-python",
   "name": "python",
   "nbconvert_exporter": "python",
   "pygments_lexer": "ipython3",
   "version": "3.5.4"
  }
 },
 "nbformat": 4,
 "nbformat_minor": 2
}
